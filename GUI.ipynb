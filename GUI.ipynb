{
 "cells": [
  {
   "cell_type": "markdown",
   "id": "8d5c4c98-4386-4912-80b8-ae225352f1a9",
   "metadata": {},
   "source": [
    "# Basic Python GUI to convert Text to Speech"
   ]
  },
  {
   "cell_type": "code",
   "execution_count": null,
   "id": "aa606989-900e-4d0f-9dfd-e7ef635048d1",
   "metadata": {},
   "outputs": [],
   "source": [
    "from PyQt5 import QtGui,QtWidgets\n",
    "from PyQt5 import QtCore\n",
    "from PyQt5.QtWidgets import QApplication, QMainWindow,QLabel, QVBoxLayout,QWidget,QMessageBox,QPushButton,QLineEdit\n",
    "from PyQt5.QtGui import QIcon, QPainter, QBrush, QPen,QPixmap,QFont\n",
    "from PyQt5.QtCore import QSize, Qt,QTimer,QTime\n",
    "import sys\n",
    "import pyttsx3\n",
    "\n",
    "\n",
    "class Window(QMainWindow) :\n",
    "\n",
    "\n",
    "    def  __init__(self):\n",
    "        super().__init__()\n",
    "        self.title = \"Text2Speech\"\n",
    "        self.top = 100\n",
    "        self.left = 100 \n",
    "        self.width = 550 \n",
    "        self.height = 1040 \n",
    "        self.setWindowIcon(QtGui.QIcon(\"RainLogo.png\"))\n",
    "        self.label = QLabel (self)\n",
    "        self.label.setPixmap(QPixmap(\"background.png\"))\n",
    "        self.label.setGeometry(0,0,520,1040 )\n",
    "        self.InitWindow()\n",
    "\n",
    "    def InitWindow(self):\n",
    "        self.label2 = QLabel (self)\n",
    "        self.label2.setPixmap(QPixmap(\"sapa.png\"))\n",
    "        self.label2.setGeometry(90,150,350,117 )\n",
    "        self.linedit = QLineEdit(self)\n",
    "        self.linedit.move (90,400)\n",
    "        self.linedit.resize(380,60)\n",
    "        self.button = QPushButton(\"\",self)\n",
    "        self.button.setIcon(QIcon(\"min.jpg\"))\n",
    "        size = QSize (550,450)\n",
    "        self.button.setIconSize(size)\n",
    "        self.button.setStyleSheet(\"border: 0pxsolid white; border-radius :55px;\")\n",
    "        self.button.setGeometry(8,550,550,450)\n",
    "        self.button.clicked.connect(self.onClick)\n",
    "        self.setWindowTitle(self.title)\n",
    "        self.setGeometry(self.top, self.left, self.width, self.height)\n",
    "        self.show()\n",
    "\n",
    "    def onClick(self):\n",
    "        textValue = self.linedit.text()\n",
    "        QMessageBox.question(self,\"LineEdit\", \"You Typed \"+ textValue, QMessageBox.Ok, QMessageBox.Ok)\n",
    "        print (textValue)\n",
    "        engine = pyttsx3.init()\n",
    "        engine.say(textValue)\n",
    "        engine.runAndWait()\n",
    "        print (\"done\")"
   ]
  },
  {
   "cell_type": "markdown",
   "id": "f27f0d2d-dd7b-460b-9e15-1a69f3ca1ba1",
   "metadata": {},
   "source": [
    "## Type in Text Box, Click on Minions to initiate TTS"
   ]
  },
  {
   "cell_type": "code",
   "execution_count": null,
   "id": "cbe085ee-66a5-4a48-b2f4-751fe27c3ffb",
   "metadata": {},
   "outputs": [],
   "source": [
    "App = QApplication(sys.argv)\n",
    "window = Window()\n",
    "sys.exit(App.exec())"
   ]
  },
  {
   "cell_type": "code",
   "execution_count": null,
   "id": "2e738c2f-58b3-40c1-9084-8ceef03313b0",
   "metadata": {},
   "outputs": [],
   "source": []
  }
 ],
 "metadata": {
  "kernelspec": {
   "display_name": "Python 3",
   "language": "python",
   "name": "python3"
  },
  "language_info": {
   "codemirror_mode": {
    "name": "ipython",
    "version": 3
   },
   "file_extension": ".py",
   "mimetype": "text/x-python",
   "name": "python",
   "nbconvert_exporter": "python",
   "pygments_lexer": "ipython3",
   "version": "3.8.8"
  }
 },
 "nbformat": 4,
 "nbformat_minor": 5
}
